{
 "cells": [
  {
   "cell_type": "code",
   "execution_count": 35,
   "id": "af1a91ad",
   "metadata": {},
   "outputs": [
    {
     "name": "stdout",
     "output_type": "stream",
     "text": [
      "Обработка завершена. Статистика замен:\n",
      "status\n",
      "пропал(а)    33305\n",
      "жив(а)        5516\n",
      "погиб(ла)     1627\n",
      "Name: count, dtype: int64\n"
     ]
    }
   ],
   "source": [
    "import pandas as pd\n",
    "import numpy as np\n",
    "\n",
    "# Загрузка данных\n",
    "df = pd.read_csv('LizaAlert.csv')\n",
    "\n",
    "# Проверка наличия столбца status\n",
    "if 'status' not in df.columns:\n",
    "    print(\"Ошибка: столбец 'status' не найден\")\n",
    "else:\n",
    "    # Приводим статус к строке и очищаем от пробелов\n",
    "    df['status'] = df['status'].astype(str).str.strip()\n",
    "    \n",
    "    # Условия для замены\n",
    "    is_empty = (df['status'] == '') | (df['status'].str.lower() == 'nan')\n",
    "    starts_with_prop = df['status'].str.lower().str.startswith('проп')\n",
    "    starts_with_stop = df['status'].str.lower().str.startswith('стоп')\n",
    "    starts_with_dead = df['status'].str.lower().str.startswith(('погиб', '(погиб)'))\n",
    "    starts_with_alive = df['status'].str.lower().str.startswith('жив')\n",
    "    \n",
    "    # Объединенные маски\n",
    "    prop_mask = is_empty | starts_with_prop | starts_with_stop\n",
    "    \n",
    "    # Заменяем значения (теперь без учета gender)\n",
    "    df.loc[prop_mask, 'status'] = 'пропал(а)'\n",
    "    df.loc[starts_with_dead, 'status'] = 'погиб(ла)'\n",
    "    df.loc[starts_with_alive, 'status'] = 'жив(а)'\n",
    "    \n",
    "    # Сохранение результата\n",
    "    df.to_csv('updated_file.csv', index=False)\n",
    "    \n",
    "    print(\"Обработка завершена. Статистика замен:\")\n",
    "    print(df['status'].value_counts(dropna=False))"
   ]
  },
  {
   "cell_type": "code",
   "execution_count": null,
   "id": "f801da33",
   "metadata": {},
   "outputs": [],
   "source": []
  }
 ],
 "metadata": {
  "kernelspec": {
   "display_name": "base",
   "language": "python",
   "name": "python3"
  },
  "language_info": {
   "codemirror_mode": {
    "name": "ipython",
    "version": 3
   },
   "file_extension": ".py",
   "mimetype": "text/x-python",
   "name": "python",
   "nbconvert_exporter": "python",
   "pygments_lexer": "ipython3",
   "version": "3.13.5"
  }
 },
 "nbformat": 4,
 "nbformat_minor": 5
}
