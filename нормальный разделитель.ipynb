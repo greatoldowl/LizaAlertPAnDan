{
 "cells": [
  {
   "cell_type": "code",
   "execution_count": null,
   "id": "af1a91ad",
   "metadata": {},
   "outputs": [
    {
     "name": "stdout",
     "output_type": "stream",
     "text": [
      "Обработка завершена. Статистика статусов:\n",
      "status\n",
      "пропал(а)    28313\n",
      "жив(а)        9294\n",
      "погиб(ла)     2841\n",
      "Name: count, dtype: int64\n"
     ]
    }
   ],
   "source": [
    "import pandas as pd\n",
    "import numpy as np\n",
    "    \n",
    "import re\n",
    "\n",
    "# Загрузка данных\n",
    "df = pd.read_csv('LizaAlert.csv')\n",
    "\n",
    "# Проверка наличия столбца status\n",
    "if 'status' not in df.columns:\n",
    "    print(\"Ошибка: столбец 'status' не найден\")\n",
    "else:\n",
    "    # Приводим статус к строке и очищаем от пробелов\n",
    "    df['status'] = df['status'].astype(str).str.strip()\n",
    "    \n",
    "    # Условия для замены\n",
    "    is_empty = (df['status'] == '') | (df['status'].str.lower() == 'nan')\n",
    "    starts_with_prop = df['status'].str.lower().str.startswith('проп')\n",
    "    starts_with_stop = df['status'].str.lower().str.startswith('стоп')\n",
    "    starts_with_dead = df['status'].str.lower().str.startswith(('погиб',))\n",
    "    starts_with_alive = df['status'].str.lower().str.startswith('жив')\n",
    "    \n",
    "    # Объединенные маски\n",
    "    prop_mask = is_empty | starts_with_prop | starts_with_stop\n",
    "    \n",
    "    # Заменяем значения (теперь без учета gender)\n",
    "    df.loc[prop_mask, 'status'] = 'пропал(а)'\n",
    "    df.loc[starts_with_dead, 'status'] = 'погиб(ла)'\n",
    "    df.loc[starts_with_alive, 'status'] = 'жив(а)'\n",
    "    \n",
    "    # Сохранение результата\n",
    "    df.to_csv('updated_file.csv', index=False)\n",
    "\n",
    "\n",
    "# Загрузка данных\n",
    "df = pd.read_csv('updated_file.csv')\n",
    "\n",
    "# Проверка наличия необходимых столбцов\n",
    "required_columns = {'head', 'content', 'status'}\n",
    "\n",
    "# Анализируем оба текстовых поля\n",
    "for col in ['head', 'content']:\n",
    "    df[f'{col}_status'] = df[col].apply(detect_status)\n",
    "\n",
    "# Комбинируем результаты (приоритет у content)\n",
    "df['final_status'] = df['content_status'].combine_first(df['head_status'])\n",
    "\n",
    "# Обновляем основной статус\n",
    "update_mask = df['final_status'].notna()\n",
    "df.loc[update_mask, 'status'] = df.loc[update_mask, 'final_status']\n",
    "\n",
    "# Удаляем временные столбцы\n",
    "df.drop(columns=['head_status', 'content_status', 'final_status'], inplace=True)\n",
    "\n",
    "# Сохранение результата\n",
    "df.to_csv('updated_file.csv', index=False)\n",
    "\n",
    "print(\"Обработка завершена. Статистика статусов:\")\n",
    "print(df['status'].value_counts(dropna=False))"
   ]
  },
  {
   "cell_type": "code",
   "execution_count": null,
   "id": "f801da33",
   "metadata": {},
   "outputs": [],
   "source": []
  }
 ],
 "metadata": {
  "kernelspec": {
   "display_name": "base",
   "language": "python",
   "name": "python3"
  },
  "language_info": {
   "codemirror_mode": {
    "name": "ipython",
    "version": 3
   },
   "file_extension": ".py",
   "mimetype": "text/x-python",
   "name": "python",
   "nbconvert_exporter": "python",
   "pygments_lexer": "ipython3",
   "version": "3.13.5"
  }
 },
 "nbformat": 4,
 "nbformat_minor": 5
}
