{
 "cells": [
  {
   "cell_type": "code",
   "execution_count": null,
   "id": "af1a91ad",
   "metadata": {},
   "outputs": [
    {
     "name": "stdout",
     "output_type": "stream",
     "text": [
      "Обработка завершена успешно!\n",
      "\n",
      "Статистика замен:\n",
      "status\n",
      "пропал(а)    28860\n",
      "жив(а)        2767\n",
      "пропал        2535\n",
      "жив           1879\n",
      "пропала       1215\n",
      "жива           870\n",
      "погиб(ла)      745\n",
      "погиб          700\n",
      "Стоп           695\n",
      "погибла        182\n",
      "Name: count, dtype: int64\n"
     ]
    }
   ],
   "source": [
    "import pandas as pd\n",
    "import numpy as np\n",
    "\n",
    "# Загрузка данных\n",
    "df = pd.read_csv('LizaAlert.csv')\n",
    "\n",
    "# Проверка наличия необходимых столбцов\n",
    "required_columns = ['status', 'gender']\n",
    "if not all(col in df.columns for col in required_columns):\n",
    "    missing = [col for col in required_columns if col not in df.columns]\n",
    "    print(f\"Ошибка: отсутствуют столбцы {missing}\")\n",
    "else:\n",
    "    # Приводим статус к строке и очищаем от пробелов\n",
    "    df['status'] = df['status'].astype(str).str.strip()\n",
    "    df['gender'] = df['gender'].astype(str).str.strip().str.lower()\n",
    "    \n",
    "    # Создаем условия для замены\n",
    "    is_empty = (df['status'] == '') | (df['status'] == 'nan') | (df['status'] == 'стоп') | (df['status'] == 'Cтоп')\n",
    "    starts_with_prop = df['status'].str.lower().str.startswith('проп')\n",
    "    starts_with_dead = df['status'].str.lower().str.startswith(('погиб', '(погиб)'))\n",
    "    starts_with_alive = df['status'].str.lower().str.startswith('жив')\n",
    "    \n",
    "    # Создаем временные столбцы для замены\n",
    "    conditions = [\n",
    "        (is_empty | starts_with_prop) & (df['gender'] == 'муж'),\n",
    "        (is_empty | starts_with_prop) & (df['gender'] == 'жен'),\n",
    "        starts_with_dead & (df['gender'] == 'муж'),\n",
    "        starts_with_dead & (df['gender'] == 'жен'),\n",
    "        starts_with_alive & (df['gender'] == 'муж'),\n",
    "        starts_with_alive & (df['gender'] == 'жен')\n",
    "    ]\n",
    "    \n",
    "    choices = [\n",
    "        'пропал',    # для мужчин (проп/пусто)\n",
    "        'пропала',   # для женщин (проп/пусто)\n",
    "        'погиб',     # для мужчин (погиб)\n",
    "        'погибла',   # для женщин (погиб)\n",
    "        'жив',       # для мужчин (жив)\n",
    "        'жива'       # для женщин (жив)\n",
    "    ]\n",
    "    \n",
    "    # Применяем замену\n",
    "    df['status'] = np.select(conditions, choices, default=df['status'])\n",
    "    \n",
    "    # Обработка других значений пола\n",
    "    other_gender_mask = ~df['gender'].isin(['муж', 'жен'])\n",
    "    df.loc[other_gender_mask & (is_empty | starts_with_prop), 'status'] = 'пропал(а)'\n",
    "    df.loc[other_gender_mask & starts_with_dead, 'status'] = 'погиб(ла)'\n",
    "    df.loc[other_gender_mask & starts_with_alive, 'status'] = 'жив(а)'\n",
    "    \n",
    "    # Сохранение результата\n",
    "    df.to_csv('updated_file.csv', index=False)\n",
    "    S\n",
    "    print(\"Обработка завершена успешно!\")\n",
    "    print(\"\\nСтатистика замен:\")\n",
    "    print(df['status'].value_counts(dropna=False))"
   ]
  },
  {
   "cell_type": "code",
   "execution_count": null,
   "id": "f801da33",
   "metadata": {},
   "outputs": [],
   "source": []
  }
 ],
 "metadata": {
  "kernelspec": {
   "display_name": "base",
   "language": "python",
   "name": "python3"
  },
  "language_info": {
   "codemirror_mode": {
    "name": "ipython",
    "version": 3
   },
   "file_extension": ".py",
   "mimetype": "text/x-python",
   "name": "python",
   "nbconvert_exporter": "python",
   "pygments_lexer": "ipython3",
   "version": "3.13.5"
  }
 },
 "nbformat": 4,
 "nbformat_minor": 5
}
