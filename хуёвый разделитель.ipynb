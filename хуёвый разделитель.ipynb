{
 "cells": [
  {
   "cell_type": "code",
   "execution_count": 17,
   "id": "462b7625",
   "metadata": {},
   "outputs": [],
   "source": [
    "import csv\n",
    "\n",
    "with open('LizaAlert.csv', 'r') as infile, open('CleanData.csv', 'w', newline='') as outfile, open(\"DeadOrAlive.csv\", 'w', newline='') as spoiledfile:\n",
    "    writer = csv.writer(outfile)\n",
    "    writer1= csv.writer(spoiledfile)\n",
    "    for line in infile:\n",
    "    \n",
    "        \n",
    "            \n",
    "        # Apply filters: first char not alphabetic, second char not '.'\n",
    "        if not len(line) < 3 and line[0].isdigit() and line[1] != '.':\n",
    "            # Split line into parts and write to CSV\n",
    "            parts = line.split(',')\n",
    "            writer.writerow(parts)\n",
    "        else:\n",
    "            line=line.split()\n",
    "            writer1.writerow(line)"
   ]
  }
 ],
 "metadata": {
  "kernelspec": {
   "display_name": "base",
   "language": "python",
   "name": "python3"
  },
  "language_info": {
   "codemirror_mode": {
    "name": "ipython",
    "version": 3
   },
   "file_extension": ".py",
   "mimetype": "text/x-python",
   "name": "python",
   "nbconvert_exporter": "python",
   "pygments_lexer": "ipython3",
   "version": "3.13.5"
  }
 },
 "nbformat": 4,
 "nbformat_minor": 5
}
